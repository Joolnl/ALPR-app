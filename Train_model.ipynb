{
  "nbformat": 4,
  "nbformat_minor": 0,
  "metadata": {
    "colab": {
      "name": "Train model.ipynb",
      "provenance": [],
      "collapsed_sections": []
    },
    "kernelspec": {
      "name": "python3",
      "display_name": "Python 3"
    },
    "accelerator": "GPU"
  },
  "cells": [
    {
      "cell_type": "markdown",
      "metadata": {
        "id": "0AfnXWiCHp5e",
        "colab_type": "text"
      },
      "source": [
        "<h1>Download required libraries and git clone tensorflow/models</h1>"
      ]
    },
    {
      "cell_type": "code",
      "metadata": {
        "id": "mtbxBBbt4YQp",
        "colab_type": "code",
        "colab": {}
      },
      "source": [
        "#Use tensorflowGPU 1.12.0 because TensorflowJS won't work with newer versions (unsupported ops)\n",
        "!pip install tensorflow-gpu==1.12.0\n",
        "\n",
        "#Download Protobuf\n",
        "!apt-get install protobuf-compiler python-pil python-lxml python-tk\n",
        "\n",
        "#Colab has CUDA 10.1 installed which isn't compatible with TF-gpu 1.12, so install CUDA 9.0 (It'll remove 10.1 in the process)\n",
        "!wget https://developer.nvidia.com/compute/cuda/9.0/Prod/local_installers/cuda-repo-ubuntu1604-9-0-local_9.0.176-1_amd64-deb\n",
        "!dpkg -i cuda-repo-ubuntu1604-9-0-local_9.0.176-1_amd64-deb\n",
        "!apt-key add /var/cuda-repo-9-0-local/7fa2af80.pub\n",
        "!apt-get update\n",
        "!apt-get install cuda=9.0.176-1\n",
        "\n",
        "!git clone https://github.com/Thorben-b/models.git"
      ],
      "execution_count": 0,
      "outputs": []
    },
    {
      "cell_type": "code",
      "metadata": {
        "id": "0TRScJB0EPfk",
        "colab_type": "code",
        "colab": {}
      },
      "source": [
        "%set_env PYTHONPATH=/content/models/research:/content/models/research/slim"
      ],
      "execution_count": 0,
      "outputs": []
    },
    {
      "cell_type": "code",
      "metadata": {
        "id": "0TrwW8U65RMf",
        "colab_type": "code",
        "colab": {}
      },
      "source": [
        "#This completes the installation the Object Detection API\n",
        "%cd /content/models/research\n",
        "!python setup.py build\n",
        "!python setup.py install"
      ],
      "execution_count": 0,
      "outputs": []
    },
    {
      "cell_type": "code",
      "metadata": {
        "id": "tlWm02FhRVKn",
        "colab_type": "code",
        "colab": {}
      },
      "source": [
        "#Compile the Protobuf libraries and test the installation of the Object Detection API\n",
        "!protoc object_detection/protos/*.proto --python_out=.\n",
        "!python object_detection/builders/model_builder_test.py"
      ],
      "execution_count": 0,
      "outputs": []
    },
    {
      "cell_type": "code",
      "metadata": {
        "id": "nTVb6VRk5Asa",
        "colab_type": "code",
        "colab": {}
      },
      "source": [
        "#Convert the json files (with the bounding box coordinates) to csv\n",
        "%cd object_detection/\n",
        "!python json_to_csv.py"
      ],
      "execution_count": 0,
      "outputs": []
    },
    {
      "cell_type": "code",
      "metadata": {
        "id": "0oyp2gs98Slu",
        "colab_type": "code",
        "colab": {}
      },
      "source": [
        "#Generate TFrecords from the csv files\n",
        "!python3 generate_tfrecord.py --csv_input=images/train_labels.csv --image_dir=images/train/ --output_path=train.record\n",
        "!python3 generate_tfrecord.py --csv_input=images/test_labels.csv --image_dir=images/test/ --output_path=test.record"
      ],
      "execution_count": 0,
      "outputs": []
    },
    {
      "cell_type": "code",
      "metadata": {
        "id": "-Sau0zkLZXCH",
        "colab_type": "code",
        "colab": {}
      },
      "source": [
        "%cd .."
      ],
      "execution_count": 0,
      "outputs": []
    },
    {
      "cell_type": "markdown",
      "metadata": {
        "id": "g_r61H0lb4ro",
        "colab_type": "text"
      },
      "source": [
        "**Training the actual model**"
      ]
    },
    {
      "cell_type": "code",
      "metadata": {
        "id": "G8RElkJOc2ie",
        "colab_type": "code",
        "colab": {}
      },
      "source": [
        "#Train the model using train.py script from TensorFlow Object Detection API\n",
        "#--train_dir sets the model which'll be used\n",
        "#--pipeline_config_path is the path to the config file\n",
        "\n",
        "!python3 object_detection/legacy/train.py --logtostderr --train_dir=object_detection/ssd_model_v1/ \\\n",
        "--pipeline_config_path=object_detection/training/pipeline.config"
      ],
      "execution_count": 0,
      "outputs": []
    },
    {
      "cell_type": "markdown",
      "metadata": {
        "id": "rZXPHPT4cSgT",
        "colab_type": "text"
      },
      "source": [
        "**Another train script, this one gives a bit more feedback during training, but the above script was used during the initial training of the model and is used in the application**"
      ]
    },
    {
      "cell_type": "code",
      "metadata": {
        "id": "D28aPov68d_J",
        "colab_type": "code",
        "colab": {}
      },
      "source": [
        "!python object_detection/model_main.py --logtostderr --model_dir=object_detection/ssd_v3_small --pipeline_config_path=object_detection/training/pipeline.config"
      ],
      "execution_count": 0,
      "outputs": []
    },
    {
      "cell_type": "markdown",
      "metadata": {
        "id": "iX4m1Wn1UhMz",
        "colab_type": "text"
      },
      "source": [
        "**Save the model to /object_detection/kenteken_graph**"
      ]
    },
    {
      "cell_type": "code",
      "metadata": {
        "id": "wtmGbKQLVHoF",
        "colab_type": "code",
        "colab": {}
      },
      "source": [
        "!python3 object_detection/export_inference_graph.py \\\n",
        "    --input_type image_tensor \\\n",
        "    --pipeline_config_path object_detection/training/pipeline.config \\\n",
        "    --trained_checkpoint_prefix object_detection/ssd_v3_small/model.ckpt-8456 \\\n",
        "    --output_directory object_detection/kenteken_graph_v1"
      ],
      "execution_count": 0,
      "outputs": []
    },
    {
      "cell_type": "code",
      "metadata": {
        "id": "a3tZ4ik3c9LT",
        "colab_type": "code",
        "colab": {}
      },
      "source": [
        "#Zip the model (not necessary)\n",
        "!zip -r object_detection/trained_model_v3_8456.zip object_detection/kenteken__v3_graph_8456"
      ],
      "execution_count": 0,
      "outputs": []
    },
    {
      "cell_type": "markdown",
      "metadata": {
        "id": "HqZ5E9vHcqxx",
        "colab_type": "text"
      },
      "source": [
        "**Convert the model to TensorFlow JS**"
      ]
    },
    {
      "cell_type": "code",
      "metadata": {
        "id": "sd-_g3Zict3-",
        "colab_type": "code",
        "colab": {}
      },
      "source": [
        "#First install TensorFlowJS\n",
        "!pip install tensorflowjs\n",
        "\n",
        "#Show the converter where the input path is (it'll look for the savedmodel file)\n",
        "!tensorflowjs_converter --input_format=tf_saved_model --output_format=tfjs_graph_model --saved_model_tags=serve object_detection/kenteken_graph_v1/saved_model object_detection/kenteken_graph_v1/TFJS"
      ],
      "execution_count": 0,
      "outputs": []
    },
    {
      "cell_type": "code",
      "metadata": {
        "id": "hqTZN-0P_gpQ",
        "colab_type": "code",
        "colab": {}
      },
      "source": [
        ""
      ],
      "execution_count": 0,
      "outputs": []
    }
  ]
}